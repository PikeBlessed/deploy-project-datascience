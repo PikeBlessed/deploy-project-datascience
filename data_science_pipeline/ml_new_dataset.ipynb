{
 "cells": [
  {
   "cell_type": "markdown",
   "metadata": {},
   "source": [
    "# Enrichment Dataset with more Features"
   ]
  },
  {
   "cell_type": "code",
   "execution_count": 113,
   "metadata": {},
   "outputs": [
    {
     "data": {
      "text/html": [
       "<div>\n",
       "<style scoped>\n",
       "    .dataframe tbody tr th:only-of-type {\n",
       "        vertical-align: middle;\n",
       "    }\n",
       "\n",
       "    .dataframe tbody tr th {\n",
       "        vertical-align: top;\n",
       "    }\n",
       "\n",
       "    .dataframe thead th {\n",
       "        text-align: right;\n",
       "    }\n",
       "</style>\n",
       "<table border=\"1\" class=\"dataframe\">\n",
       "  <thead>\n",
       "    <tr style=\"text-align: right;\">\n",
       "      <th></th>\n",
       "      <th>date</th>\n",
       "      <th>format</th>\n",
       "      <th>comments</th>\n",
       "      <th>likes</th>\n",
       "      <th>reach</th>\n",
       "      <th>engagement</th>\n",
       "      <th>saved</th>\n",
       "      <th>shares</th>\n",
       "      <th>style</th>\n",
       "      <th>duration (seg)</th>\n",
       "      <th>main_topic</th>\n",
       "      <th>voice_off</th>\n",
       "    </tr>\n",
       "  </thead>\n",
       "  <tbody>\n",
       "    <tr>\n",
       "      <th>0</th>\n",
       "      <td>12/02/2024</td>\n",
       "      <td>1</td>\n",
       "      <td>23</td>\n",
       "      <td>152</td>\n",
       "      <td>1784</td>\n",
       "      <td>269</td>\n",
       "      <td>77</td>\n",
       "      <td>17</td>\n",
       "      <td>informative</td>\n",
       "      <td>18.0</td>\n",
       "      <td>basic photography</td>\n",
       "      <td>yes</td>\n",
       "    </tr>\n",
       "  </tbody>\n",
       "</table>\n",
       "</div>"
      ],
      "text/plain": [
       "         date  format  comments  likes  reach  engagement  saved  shares  \\\n",
       "0  12/02/2024       1        23    152   1784         269     77      17   \n",
       "\n",
       "        style   duration (seg)         main_topic voice_off  \n",
       "0  informative            18.0  basic photography       yes  "
      ]
     },
     "execution_count": 113,
     "metadata": {},
     "output_type": "execute_result"
    }
   ],
   "source": [
    "import pandas as pd\n",
    "import numpy as np\n",
    "from sklearn.preprocessing import LabelEncoder\n",
    "from sklearn.model_selection import cross_validate\n",
    "from sklearn.linear_model import Ridge\n",
    "from sklearn.impute import SimpleImputer\n",
    "\n",
    "df_upgraded = pd.read_csv('/home/pikeblessed/proyecto_phnan/deploy-project-datascience/data/dataset_upgraded_phnan.csv', delimiter=';')\n",
    "df_upgraded.head(1)"
   ]
  },
  {
   "cell_type": "code",
   "execution_count": 11,
   "metadata": {},
   "outputs": [
    {
     "name": "stdout",
     "output_type": "stream",
     "text": [
      "<class 'pandas.core.frame.DataFrame'>\n",
      "RangeIndex: 95 entries, 0 to 94\n",
      "Data columns (total 12 columns):\n",
      " #   Column          Non-Null Count  Dtype  \n",
      "---  ------          --------------  -----  \n",
      " 0   date            95 non-null     object \n",
      " 1   format          95 non-null     int64  \n",
      " 2   comments        95 non-null     int64  \n",
      " 3   likes           95 non-null     int64  \n",
      " 4   reach           95 non-null     int64  \n",
      " 5   engagement      95 non-null     int64  \n",
      " 6   saved           95 non-null     int64  \n",
      " 7   shares          95 non-null     int64  \n",
      " 8   style           95 non-null     object \n",
      " 9   duration (seg)  60 non-null     float64\n",
      " 10  main_topic      95 non-null     object \n",
      " 11  voice_off       59 non-null     object \n",
      "dtypes: float64(1), int64(7), object(4)\n",
      "memory usage: 9.0+ KB\n"
     ]
    }
   ],
   "source": [
    "df_upgraded.info()"
   ]
  },
  {
   "cell_type": "markdown",
   "metadata": {},
   "source": [
    "### Distribution of the new features"
   ]
  },
  {
   "cell_type": "code",
   "execution_count": 43,
   "metadata": {},
   "outputs": [
    {
     "data": {
      "text/plain": [
       "<Axes: >"
      ]
     },
     "execution_count": 43,
     "metadata": {},
     "output_type": "execute_result"
    },
    {
     "data": {
      "image/png": "[encoded data removed]",
      "text/plain": [
       "<Figure size 300x300 with 1 Axes>"
      ]
     },
     "metadata": {},
     "output_type": "display_data"
    }
   ],
   "source": [
    "df_upgraded['style '].hist(figsize=(3,3), color='brown')"
   ]
  },
  {
   "cell_type": "code",
   "execution_count": 42,
   "metadata": {},
   "outputs": [
    {
     "data": {
      "text/plain": [
       "<Axes: >"
      ]
     },
     "execution_count": 42,
     "metadata": {},
     "output_type": "execute_result"
    },
    {
     "data": {
      "image/png": "[encoded data removed]",
      "text/plain": [
       "<Figure size 640x480 with 1 Axes>"
      ]
     },
     "metadata": {},
     "output_type": "display_data"
    }
   ],
   "source": [
    "df_upgraded['duration (seg)'].hist(bins=30, color='brown')"
   ]
  },
  {
   "cell_type": "code",
   "execution_count": 44,
   "metadata": {},
   "outputs": [
    {
     "data": {
      "text/plain": [
       "<Axes: >"
      ]
     },
     "execution_count": 44,
     "metadata": {},
     "output_type": "execute_result"
    },
    {
     "data": {
      "image/png": "[encoded data removed]",
      "text/plain": [
       "<Figure size 500x300 with 1 Axes>"
      ]
     },
     "metadata": {},
     "output_type": "display_data"
    }
   ],
   "source": [
    "df_upgraded['main_topic'].hist(figsize=(5,3), color='brown')"
   ]
  },
  {
   "cell_type": "code",
   "execution_count": 40,
   "metadata": {},
   "outputs": [
    {
     "data": {
      "text/plain": [
       "<Axes: >"
      ]
     },
     "execution_count": 40,
     "metadata": {},
     "output_type": "execute_result"
    },
    {
     "data": {
      "image/png": "[encoded data removed]",
      "text/plain": [
       "<Figure size 300x300 with 1 Axes>"
      ]
     },
     "metadata": {},
     "output_type": "display_data"
    }
   ],
   "source": [
    "df_upgraded['voice_off'].hist(figsize=(3,3), color='brown')"
   ]
  },
  {
   "cell_type": "code",
   "execution_count": 52,
   "metadata": {},
   "outputs": [
    {
     "data": {
      "text/html": [
       "<div>\n",
       "<style scoped>\n",
       "    .dataframe tbody tr th:only-of-type {\n",
       "        vertical-align: middle;\n",
       "    }\n",
       "\n",
       "    .dataframe tbody tr th {\n",
       "        vertical-align: top;\n",
       "    }\n",
       "\n",
       "    .dataframe thead th {\n",
       "        text-align: right;\n",
       "    }\n",
       "</style>\n",
       "<table border=\"1\" class=\"dataframe\">\n",
       "  <thead>\n",
       "    <tr style=\"text-align: right;\">\n",
       "      <th></th>\n",
       "      <th>date</th>\n",
       "      <th>format</th>\n",
       "      <th>comments</th>\n",
       "      <th>likes</th>\n",
       "      <th>reach</th>\n",
       "      <th>engagement</th>\n",
       "      <th>saved</th>\n",
       "      <th>shares</th>\n",
       "      <th>style</th>\n",
       "      <th>duration (seg)</th>\n",
       "      <th>main_topic</th>\n",
       "      <th>voice_off</th>\n",
       "    </tr>\n",
       "  </thead>\n",
       "  <tbody>\n",
       "    <tr>\n",
       "      <th>0</th>\n",
       "      <td>12/02/2024</td>\n",
       "      <td>1</td>\n",
       "      <td>23</td>\n",
       "      <td>152</td>\n",
       "      <td>1784</td>\n",
       "      <td>269</td>\n",
       "      <td>77</td>\n",
       "      <td>17</td>\n",
       "      <td>1</td>\n",
       "      <td>18.0</td>\n",
       "      <td>1</td>\n",
       "      <td>1</td>\n",
       "    </tr>\n",
       "    <tr>\n",
       "      <th>1</th>\n",
       "      <td>11/02/2024</td>\n",
       "      <td>1</td>\n",
       "      <td>5</td>\n",
       "      <td>111</td>\n",
       "      <td>1742</td>\n",
       "      <td>152</td>\n",
       "      <td>30</td>\n",
       "      <td>6</td>\n",
       "      <td>1</td>\n",
       "      <td>15.0</td>\n",
       "      <td>2</td>\n",
       "      <td>1</td>\n",
       "    </tr>\n",
       "    <tr>\n",
       "      <th>2</th>\n",
       "      <td>10/02/2024</td>\n",
       "      <td>1</td>\n",
       "      <td>6</td>\n",
       "      <td>161</td>\n",
       "      <td>2525</td>\n",
       "      <td>262</td>\n",
       "      <td>81</td>\n",
       "      <td>14</td>\n",
       "      <td>1</td>\n",
       "      <td>49.0</td>\n",
       "      <td>1</td>\n",
       "      <td>0</td>\n",
       "    </tr>\n",
       "    <tr>\n",
       "      <th>3</th>\n",
       "      <td>09/02/2024</td>\n",
       "      <td>3</td>\n",
       "      <td>8</td>\n",
       "      <td>276</td>\n",
       "      <td>4061</td>\n",
       "      <td>574</td>\n",
       "      <td>252</td>\n",
       "      <td>38</td>\n",
       "      <td>1</td>\n",
       "      <td>NaN</td>\n",
       "      <td>0</td>\n",
       "      <td>2</td>\n",
       "    </tr>\n",
       "    <tr>\n",
       "      <th>4</th>\n",
       "      <td>08/02/2024</td>\n",
       "      <td>1</td>\n",
       "      <td>59</td>\n",
       "      <td>425</td>\n",
       "      <td>5498</td>\n",
       "      <td>582</td>\n",
       "      <td>79</td>\n",
       "      <td>19</td>\n",
       "      <td>0</td>\n",
       "      <td>11.0</td>\n",
       "      <td>3</td>\n",
       "      <td>1</td>\n",
       "    </tr>\n",
       "  </tbody>\n",
       "</table>\n",
       "</div>"
      ],
      "text/plain": [
       "         date  format  comments  likes  reach  engagement  saved  shares  \\\n",
       "0  12/02/2024       1        23    152   1784         269     77      17   \n",
       "1  11/02/2024       1         5    111   1742         152     30       6   \n",
       "2  10/02/2024       1         6    161   2525         262     81      14   \n",
       "3  09/02/2024       3         8    276   4061         574    252      38   \n",
       "4  08/02/2024       1        59    425   5498         582     79      19   \n",
       "\n",
       "   style   duration (seg)  main_topic  voice_off  \n",
       "0       1            18.0           1          1  \n",
       "1       1            15.0           2          1  \n",
       "2       1            49.0           1          0  \n",
       "3       1             NaN           0          2  \n",
       "4       0            11.0           3          1  "
      ]
     },
     "execution_count": 52,
     "metadata": {},
     "output_type": "execute_result"
    }
   ],
   "source": [
    "#encoding categorical features\n",
    "encoder = LabelEncoder()\n",
    "df_upgraded_encoder = df_upgraded.copy() #copy of df\n",
    "columns = ['style ', 'main_topic', 'voice_off'] #columns to encode\n",
    "df_upgraded_encoder[columns] = df_upgraded_encoder[columns].apply(lambda col: encoder.fit_transform(col)) #encoding\n",
    "df = df_upgraded_encoder\n",
    "df.head()"
   ]
  },
  {
   "cell_type": "code",
   "execution_count": 58,
   "metadata": {},
   "outputs": [
    {
     "data": {
      "text/plain": [
       "count    60.000000\n",
       "mean     34.750000\n",
       "std      15.492617\n",
       "min       6.000000\n",
       "25%      18.750000\n",
       "50%      39.000000\n",
       "75%      47.000000\n",
       "max      58.000000\n",
       "Name: duration (seg), dtype: float64"
      ]
     },
     "execution_count": 58,
     "metadata": {},
     "output_type": "execute_result"
    }
   ],
   "source": [
    "df['duration (seg)'].describe()"
   ]
  },
  {
   "cell_type": "code",
   "execution_count": 62,
   "metadata": {},
   "outputs": [],
   "source": [
    "#impute media value for Nan\n",
    "df = df.drop('date', axis=1)\n",
    "imputer = SimpleImputer(missing_values=np.nan, strategy='mean')\n",
    "values = imputer.fit_transform(df)"
   ]
  },
  {
   "cell_type": "code",
   "execution_count": 65,
   "metadata": {},
   "outputs": [
    {
     "data": {
      "text/html": [
       "<div>\n",
       "<style scoped>\n",
       "    .dataframe tbody tr th:only-of-type {\n",
       "        vertical-align: middle;\n",
       "    }\n",
       "\n",
       "    .dataframe tbody tr th {\n",
       "        vertical-align: top;\n",
       "    }\n",
       "\n",
       "    .dataframe thead th {\n",
       "        text-align: right;\n",
       "    }\n",
       "</style>\n",
       "<table border=\"1\" class=\"dataframe\">\n",
       "  <thead>\n",
       "    <tr style=\"text-align: right;\">\n",
       "      <th></th>\n",
       "      <th>format</th>\n",
       "      <th>comments</th>\n",
       "      <th>likes</th>\n",
       "      <th>reach</th>\n",
       "      <th>engagement</th>\n",
       "      <th>saved</th>\n",
       "      <th>shares</th>\n",
       "      <th>style</th>\n",
       "      <th>duration (seg)</th>\n",
       "      <th>main_topic</th>\n",
       "      <th>voice_off</th>\n",
       "    </tr>\n",
       "  </thead>\n",
       "  <tbody>\n",
       "    <tr>\n",
       "      <th>0</th>\n",
       "      <td>1.0</td>\n",
       "      <td>23.0</td>\n",
       "      <td>152.0</td>\n",
       "      <td>1784.0</td>\n",
       "      <td>269.0</td>\n",
       "      <td>77.0</td>\n",
       "      <td>17.0</td>\n",
       "      <td>1.0</td>\n",
       "      <td>18.00</td>\n",
       "      <td>1.0</td>\n",
       "      <td>1.0</td>\n",
       "    </tr>\n",
       "    <tr>\n",
       "      <th>1</th>\n",
       "      <td>1.0</td>\n",
       "      <td>5.0</td>\n",
       "      <td>111.0</td>\n",
       "      <td>1742.0</td>\n",
       "      <td>152.0</td>\n",
       "      <td>30.0</td>\n",
       "      <td>6.0</td>\n",
       "      <td>1.0</td>\n",
       "      <td>15.00</td>\n",
       "      <td>2.0</td>\n",
       "      <td>1.0</td>\n",
       "    </tr>\n",
       "    <tr>\n",
       "      <th>2</th>\n",
       "      <td>1.0</td>\n",
       "      <td>6.0</td>\n",
       "      <td>161.0</td>\n",
       "      <td>2525.0</td>\n",
       "      <td>262.0</td>\n",
       "      <td>81.0</td>\n",
       "      <td>14.0</td>\n",
       "      <td>1.0</td>\n",
       "      <td>49.00</td>\n",
       "      <td>1.0</td>\n",
       "      <td>0.0</td>\n",
       "    </tr>\n",
       "    <tr>\n",
       "      <th>3</th>\n",
       "      <td>3.0</td>\n",
       "      <td>8.0</td>\n",
       "      <td>276.0</td>\n",
       "      <td>4061.0</td>\n",
       "      <td>574.0</td>\n",
       "      <td>252.0</td>\n",
       "      <td>38.0</td>\n",
       "      <td>1.0</td>\n",
       "      <td>34.75</td>\n",
       "      <td>0.0</td>\n",
       "      <td>2.0</td>\n",
       "    </tr>\n",
       "    <tr>\n",
       "      <th>4</th>\n",
       "      <td>1.0</td>\n",
       "      <td>59.0</td>\n",
       "      <td>425.0</td>\n",
       "      <td>5498.0</td>\n",
       "      <td>582.0</td>\n",
       "      <td>79.0</td>\n",
       "      <td>19.0</td>\n",
       "      <td>0.0</td>\n",
       "      <td>11.00</td>\n",
       "      <td>3.0</td>\n",
       "      <td>1.0</td>\n",
       "    </tr>\n",
       "  </tbody>\n",
       "</table>\n",
       "</div>"
      ],
      "text/plain": [
       "   format  comments  likes   reach  engagement  saved  shares  style   \\\n",
       "0     1.0      23.0  152.0  1784.0       269.0   77.0    17.0     1.0   \n",
       "1     1.0       5.0  111.0  1742.0       152.0   30.0     6.0     1.0   \n",
       "2     1.0       6.0  161.0  2525.0       262.0   81.0    14.0     1.0   \n",
       "3     3.0       8.0  276.0  4061.0       574.0  252.0    38.0     1.0   \n",
       "4     1.0      59.0  425.0  5498.0       582.0   79.0    19.0     0.0   \n",
       "\n",
       "   duration (seg)  main_topic  voice_off  \n",
       "0           18.00         1.0        1.0  \n",
       "1           15.00         2.0        1.0  \n",
       "2           49.00         1.0        0.0  \n",
       "3           34.75         0.0        2.0  \n",
       "4           11.00         3.0        1.0  "
      ]
     },
     "execution_count": 65,
     "metadata": {},
     "output_type": "execute_result"
    }
   ],
   "source": [
    "#convert to DataFrame\n",
    "df = pd.DataFrame(values, columns=df.columns, index=df.index)\n",
    "df.head()"
   ]
  },
  {
   "cell_type": "code",
   "execution_count": 132,
   "metadata": {},
   "outputs": [],
   "source": [
    "#remove features and target feature\n",
    "X = df.drop(['engagement', 'reach'], axis=1)\n",
    "y = df['reach']"
   ]
  },
  {
   "cell_type": "code",
   "execution_count": 129,
   "metadata": {},
   "outputs": [],
   "source": [
    "#best model\n",
    "model = Ridge(alpha=100, solver='saga', max_iter=100000)"
   ]
  },
  {
   "cell_type": "code",
   "execution_count": 133,
   "metadata": {},
   "outputs": [],
   "source": [
    "#cross validation\n",
    "cv = cross_validate(model, X, y, cv=10, return_train_score=True)"
   ]
  },
  {
   "cell_type": "code",
   "execution_count": 134,
   "metadata": {},
   "outputs": [
    {
     "name": "stdout",
     "output_type": "stream",
     "text": [
      "0.916728668136181\n",
      "0.7173231692092715\n"
     ]
    }
   ],
   "source": [
    "#model results\n",
    "print(cv['train_score'].mean())\n",
    "print(cv['test_score'].mean())"
   ]
  }
 ],
 "metadata": {
  "kernelspec": {
   "display_name": "Python 3",
   "language": "python",
   "name": "python3"
  },
  "language_info": {
   "codemirror_mode": {
    "name": "ipython",
    "version": 3
   },
   "file_extension": ".py",
   "mimetype": "text/x-python",
   "name": "python",
   "nbconvert_exporter": "python",
   "pygments_lexer": "ipython3",
   "version": "3.10.12"
  }
 },
 "nbformat": 4,
 "nbformat_minor": 2
}
