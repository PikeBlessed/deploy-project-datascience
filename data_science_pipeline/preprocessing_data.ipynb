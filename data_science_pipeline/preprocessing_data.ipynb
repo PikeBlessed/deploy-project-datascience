{
 "cells": [
  {
   "cell_type": "markdown",
   "metadata": {},
   "source": [
    "# Pre-processing data"
   ]
  },
  {
   "cell_type": "code",
   "execution_count": 76,
   "metadata": {},
   "outputs": [
    {
     "data": {
      "text/html": [
       "<div>\n",
       "<style scoped>\n",
       "    .dataframe tbody tr th:only-of-type {\n",
       "        vertical-align: middle;\n",
       "    }\n",
       "\n",
       "    .dataframe tbody tr th {\n",
       "        vertical-align: top;\n",
       "    }\n",
       "\n",
       "    .dataframe thead th {\n",
       "        text-align: right;\n",
       "    }\n",
       "</style>\n",
       "<table border=\"1\" class=\"dataframe\">\n",
       "  <thead>\n",
       "    <tr style=\"text-align: right;\">\n",
       "      <th></th>\n",
       "      <th>ID de contenido</th>\n",
       "      <th>Fecha</th>\n",
       "      <th>Tipo de contenido</th>\n",
       "      <th>Cantidad de comentarios</th>\n",
       "      <th>Cantidad de me gusta</th>\n",
       "      <th>Alcance del contenido</th>\n",
       "      <th>Interacció</th>\n",
       "      <th>Interacciones</th>\n",
       "      <th>Guardados único</th>\n",
       "    </tr>\n",
       "  </thead>\n",
       "  <tbody>\n",
       "    <tr>\n",
       "      <th>0</th>\n",
       "      <td>18015349378552778</td>\n",
       "      <td>01/04/2023</td>\n",
       "      <td>VIDEO</td>\n",
       "      <td>2</td>\n",
       "      <td>27</td>\n",
       "      <td>664</td>\n",
       "      <td>32</td>\n",
       "      <td>32</td>\n",
       "      <td>1</td>\n",
       "    </tr>\n",
       "  </tbody>\n",
       "</table>\n",
       "</div>"
      ],
      "text/plain": [
       "     ID de contenido       Fecha Tipo de contenido  Cantidad de comentarios  \\\n",
       "0  18015349378552778  01/04/2023             VIDEO                        2   \n",
       "\n",
       "   Cantidad de me gusta  Alcance del contenido  Interacció  Interacciones  \\\n",
       "0                    27                    664          32             32   \n",
       "\n",
       "   Guardados único  \n",
       "0                1  "
      ]
     },
     "execution_count": 76,
     "metadata": {},
     "output_type": "execute_result"
    }
   ],
   "source": [
    "#import bookstores and dataset\n",
    "import pandas as pd\n",
    "from sklearn.preprocessing import LabelEncoder\n",
    "\n",
    "df = pd.read_csv('/home/pikeblessed/proyecto_phnan/deploy-project-datascience/data/Dataset phnan.csv', delimiter=';')\n",
    "df.head(1)"
   ]
  },
  {
   "cell_type": "code",
   "execution_count": 77,
   "metadata": {},
   "outputs": [],
   "source": [
    "#cleaning dataset\n",
    "df = df.drop(['ID de contenido', 'Interacció'], axis=1)"
   ]
  },
  {
   "cell_type": "code",
   "execution_count": 78,
   "metadata": {},
   "outputs": [
    {
     "data": {
      "text/html": [
       "<div>\n",
       "<style scoped>\n",
       "    .dataframe tbody tr th:only-of-type {\n",
       "        vertical-align: middle;\n",
       "    }\n",
       "\n",
       "    .dataframe tbody tr th {\n",
       "        vertical-align: top;\n",
       "    }\n",
       "\n",
       "    .dataframe thead th {\n",
       "        text-align: right;\n",
       "    }\n",
       "</style>\n",
       "<table border=\"1\" class=\"dataframe\">\n",
       "  <thead>\n",
       "    <tr style=\"text-align: right;\">\n",
       "      <th></th>\n",
       "      <th>date</th>\n",
       "      <th>format</th>\n",
       "      <th>comments</th>\n",
       "      <th>likes</th>\n",
       "      <th>reach</th>\n",
       "      <th>engagement</th>\n",
       "      <th>saved</th>\n",
       "    </tr>\n",
       "  </thead>\n",
       "  <tbody>\n",
       "    <tr>\n",
       "      <th>0</th>\n",
       "      <td>01/04/2023</td>\n",
       "      <td>VIDEO</td>\n",
       "      <td>2</td>\n",
       "      <td>27</td>\n",
       "      <td>664</td>\n",
       "      <td>32</td>\n",
       "      <td>1</td>\n",
       "    </tr>\n",
       "  </tbody>\n",
       "</table>\n",
       "</div>"
      ],
      "text/plain": [
       "         date format  comments  likes  reach  engagement  saved\n",
       "0  01/04/2023  VIDEO         2     27    664          32      1"
      ]
     },
     "execution_count": 78,
     "metadata": {},
     "output_type": "execute_result"
    }
   ],
   "source": [
    "#rename features\n",
    "feature_names = ['date', 'format', 'comments', 'likes', 'reach', 'engagement', 'saved']\n",
    "df.columns = feature_names\n",
    "df.head(1)"
   ]
  },
  {
   "cell_type": "code",
   "execution_count": 79,
   "metadata": {},
   "outputs": [
    {
     "data": {
      "text/plain": [
       "date          datetime64[ns]\n",
       "format                object\n",
       "comments               int64\n",
       "likes                  int64\n",
       "reach                  int64\n",
       "engagement             int64\n",
       "saved                  int64\n",
       "dtype: object"
      ]
     },
     "execution_count": 79,
     "metadata": {},
     "output_type": "execute_result"
    }
   ],
   "source": [
    "#convert date to date type\n",
    "df['date'] = pd.to_datetime(df['date'], format='%d/%m/%Y')\n",
    "df.dtypes"
   ]
  },
  {
   "cell_type": "code",
   "execution_count": 80,
   "metadata": {},
   "outputs": [
    {
     "data": {
      "text/html": [
       "<div>\n",
       "<style scoped>\n",
       "    .dataframe tbody tr th:only-of-type {\n",
       "        vertical-align: middle;\n",
       "    }\n",
       "\n",
       "    .dataframe tbody tr th {\n",
       "        vertical-align: top;\n",
       "    }\n",
       "\n",
       "    .dataframe thead th {\n",
       "        text-align: right;\n",
       "    }\n",
       "</style>\n",
       "<table border=\"1\" class=\"dataframe\">\n",
       "  <thead>\n",
       "    <tr style=\"text-align: right;\">\n",
       "      <th></th>\n",
       "      <th>date</th>\n",
       "      <th>format</th>\n",
       "      <th>comments</th>\n",
       "      <th>likes</th>\n",
       "      <th>reach</th>\n",
       "      <th>engagement</th>\n",
       "      <th>saved</th>\n",
       "      <th>shares</th>\n",
       "    </tr>\n",
       "  </thead>\n",
       "  <tbody>\n",
       "    <tr>\n",
       "      <th>0</th>\n",
       "      <td>2023-04-01</td>\n",
       "      <td>VIDEO</td>\n",
       "      <td>2</td>\n",
       "      <td>27</td>\n",
       "      <td>664</td>\n",
       "      <td>32</td>\n",
       "      <td>1</td>\n",
       "      <td>2</td>\n",
       "    </tr>\n",
       "  </tbody>\n",
       "</table>\n",
       "</div>"
      ],
      "text/plain": [
       "        date format  comments  likes  reach  engagement  saved  shares\n",
       "0 2023-04-01  VIDEO         2     27    664          32      1       2"
      ]
     },
     "execution_count": 80,
     "metadata": {},
     "output_type": "execute_result"
    }
   ],
   "source": [
    "#create new feature: shares\n",
    "df['shares'] = df['engagement'] - df['likes'] - df['comments'] - df['saved']\n",
    "df.head(1)"
   ]
  },
  {
   "cell_type": "code",
   "execution_count": 81,
   "metadata": {},
   "outputs": [
    {
     "data": {
      "text/html": [
       "<div>\n",
       "<style scoped>\n",
       "    .dataframe tbody tr th:only-of-type {\n",
       "        vertical-align: middle;\n",
       "    }\n",
       "\n",
       "    .dataframe tbody tr th {\n",
       "        vertical-align: top;\n",
       "    }\n",
       "\n",
       "    .dataframe thead th {\n",
       "        text-align: right;\n",
       "    }\n",
       "</style>\n",
       "<table border=\"1\" class=\"dataframe\">\n",
       "  <thead>\n",
       "    <tr style=\"text-align: right;\">\n",
       "      <th></th>\n",
       "      <th>date</th>\n",
       "      <th>format</th>\n",
       "      <th>comments</th>\n",
       "      <th>likes</th>\n",
       "      <th>reach</th>\n",
       "      <th>engagement</th>\n",
       "      <th>saved</th>\n",
       "      <th>shares</th>\n",
       "    </tr>\n",
       "  </thead>\n",
       "  <tbody>\n",
       "    <tr>\n",
       "      <th>0</th>\n",
       "      <td>2023-04-01</td>\n",
       "      <td>1</td>\n",
       "      <td>2</td>\n",
       "      <td>27</td>\n",
       "      <td>664</td>\n",
       "      <td>32</td>\n",
       "      <td>1</td>\n",
       "      <td>2</td>\n",
       "    </tr>\n",
       "  </tbody>\n",
       "</table>\n",
       "</div>"
      ],
      "text/plain": [
       "        date  format  comments  likes  reach  engagement  saved  shares\n",
       "0 2023-04-01       1         2     27    664          32      1       2"
      ]
     },
     "execution_count": 81,
     "metadata": {},
     "output_type": "execute_result"
    }
   ],
   "source": [
    "#encode object feature\n",
    "df['format'] = df['format'].replace({'VIDEO': 1, 'IMAGE': 2, 'CAROUSEL_ALBUM': 3})\n",
    "df.head(1)"
   ]
  },
  {
   "cell_type": "code",
   "execution_count": 86,
   "metadata": {},
   "outputs": [
    {
     "data": {
      "text/plain": [
       "((278, 8), (250, 8))"
      ]
     },
     "execution_count": 86,
     "metadata": {},
     "output_type": "execute_result"
    }
   ],
   "source": [
    "#delete outliers\n",
    "Q1 = df['reach'].quantile(0.25)\n",
    "Q3 = df['reach'].quantile(0.75)\n",
    "IQR = Q3 - Q1\n",
    "lower_limit = Q1 - 1.5 * IQR\n",
    "upper_limit = Q3 + 1.5 * IQR\n",
    "df_filtered = df[(df['reach'] >= lower_limit) & (df['reach'] <= upper_limit)]\n",
    "\n",
    "df.shape, df_filtered.shape"
   ]
  },
  {
   "cell_type": "code",
   "execution_count": 87,
   "metadata": {},
   "outputs": [],
   "source": [
    "#save df processed\n",
    "df_filtered.to_csv('/home/pikeblessed/proyecto_phnan/deploy-project-datascience/data/df_processed.csv', index=False)"
   ]
  }
 ],
 "metadata": {
  "kernelspec": {
   "display_name": "Python 3",
   "language": "python",
   "name": "python3"
  },
  "language_info": {
   "codemirror_mode": {
    "name": "ipython",
    "version": 3
   },
   "file_extension": ".py",
   "mimetype": "text/x-python",
   "name": "python",
   "nbconvert_exporter": "python",
   "pygments_lexer": "ipython3",
   "version": "3.10.12"
  }
 },
 "nbformat": 4,
 "nbformat_minor": 2
}
