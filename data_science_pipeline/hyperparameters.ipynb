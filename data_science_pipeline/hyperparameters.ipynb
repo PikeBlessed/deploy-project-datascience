{
 "cells": [
  {
   "cell_type": "markdown",
   "metadata": {},
   "source": [
    "# Hyperparameter Adjustment of the Models"
   ]
  },
  {
   "cell_type": "code",
   "execution_count": 100,
   "metadata": {},
   "outputs": [],
   "source": [
    "import pandas as pd\n",
    "from joblib import dump\n",
    "from sklearn.tree import DecisionTreeRegressor\n",
    "from sklearn.ensemble import RandomForestRegressor, GradientBoostingRegressor\n",
    "from sklearn.linear_model import Ridge\n",
    "from sklearn.model_selection import GridSearchCV, RandomizedSearchCV\n",
    "from sklearn.model_selection import train_test_split\n",
    "\n",
    "df = pd.read_csv('/home/pikeblessed/proyecto_phnan/deploy-project-datascience/data/df_processed.csv')\n",
    "X = df.drop(['reach', 'date', 'engagement'], axis=1)\n",
    "y = df['reach']\n",
    "X_train, X_test, y_train, y_test = train_test_split(X,y, test_size=.3, random_state=42)"
   ]
  },
  {
   "cell_type": "markdown",
   "metadata": {},
   "source": [
    "### Ridge Model"
   ]
  },
  {
   "cell_type": "code",
   "execution_count": 67,
   "metadata": {},
   "outputs": [],
   "source": [
    "model = Ridge(max_iter=10000)"
   ]
  },
  {
   "cell_type": "code",
   "execution_count": 68,
   "metadata": {},
   "outputs": [],
   "source": [
    "#define hyperparameters\n",
    "param_grid_ridge = {'alpha': [0.1, 1, 10, 100],  #alpha values\n",
    "              'solver': ['auto', 'svd', 'cholesky', 'lsqr', 'sparse_cg', 'sag', 'saga']} #solution methods"
   ]
  },
  {
   "cell_type": "code",
   "execution_count": 69,
   "metadata": {},
   "outputs": [],
   "source": [
    "scoring = {'R2': 'r2', \n",
    "           'MAE': 'neg_mean_absolute_error'}\n",
    "\n",
    "#search of best hyperparameters\n",
    "search_ridge = GridSearchCV(estimator=model, param_grid=param_grid_ridge, cv=5, scoring=scoring, refit='MAE').fit(X_train,y_train)"
   ]
  },
  {
   "cell_type": "code",
   "execution_count": 70,
   "metadata": {},
   "outputs": [
    {
     "name": "stdout",
     "output_type": "stream",
     "text": [
      "Best hyperparameters found:  {'alpha': 100, 'solver': 'saga'}\n",
      "----------\n",
      "Best score of cross valdiation with NMAE:  -605.3251045810097\n",
      "----------\n",
      "Best test score of cross valdiation with R2:  0.8592899085105762\n"
     ]
    }
   ],
   "source": [
    "results = search_ridge.cv_results_\n",
    "\n",
    "print('Best hyperparameters found: ', search_ridge.best_params_)\n",
    "print('-'*10)\n",
    "print('Best score of cross valdiation with NMAE: ', search_ridge.best_score_)\n",
    "print('-'*10)\n",
    "print('Best test score of cross valdiation with R2: ', results['mean_test_R2'].mean())"
   ]
  },
  {
   "cell_type": "code",
   "execution_count": 104,
   "metadata": {},
   "outputs": [],
   "source": [
    "best_estimator_ridge = search_ridge.best_estimator_"
   ]
  },
  {
   "cell_type": "markdown",
   "metadata": {},
   "source": [
    "### Random Forest Model"
   ]
  },
  {
   "cell_type": "code",
   "execution_count": 74,
   "metadata": {},
   "outputs": [],
   "source": [
    "rf = RandomForestRegressor()"
   ]
  },
  {
   "cell_type": "code",
   "execution_count": 96,
   "metadata": {},
   "outputs": [],
   "source": [
    "param_grid_rf = {\n",
    "    'n_estimators': [100, 200, 300],  # Number of trees in the forest\n",
    "    'max_depth': [None, 10, 20],       # Maximum depth of the trees\n",
    "    'min_samples_split': [2, 5, 10],   # Minimum number of samples required to split an internal node\n",
    "    'min_samples_leaf': [1, 2, 4],     # Minimum number of samples required to be at a leaf node\n",
    "    'max_features': ['sqrt', 'log2'],  # Number of features to consider when looking for the best split\n",
    "    'bootstrap': [True, False]         # Method of sampling observations for building trees\n",
    "}"
   ]
  },
  {
   "cell_type": "code",
   "execution_count": 98,
   "metadata": {},
   "outputs": [],
   "source": [
    "search_rf = RandomizedSearchCV(estimator=rf, param_distributions=param_grid_rf, cv=5, scoring=scoring, refit='MAE', error_score='raise').fit(X_train, y_train)"
   ]
  },
  {
   "cell_type": "code",
   "execution_count": 99,
   "metadata": {},
   "outputs": [
    {
     "name": "stdout",
     "output_type": "stream",
     "text": [
      "Best hyperparameters found:  {'n_estimators': 200, 'min_samples_split': 5, 'min_samples_leaf': 2, 'max_features': 'log2', 'max_depth': 10, 'bootstrap': True}\n",
      "----------\n",
      "Best score of cross valdiation with NMAE:  -548.9208639401179\n",
      "----------\n",
      "Best test score of cross valdiation with R2:  0.8715930578486073\n"
     ]
    }
   ],
   "source": [
    "results = search_rf.cv_results_\n",
    "\n",
    "print('Best hyperparameters found: ', search_rf.best_params_)\n",
    "print('-'*10)\n",
    "print('Best score of cross valdiation with NMAE: ', search_rf.best_score_)\n",
    "print('-'*10)\n",
    "print('Best test score of cross valdiation with R2: ', results['mean_test_R2'].mean())"
   ]
  },
  {
   "cell_type": "code",
   "execution_count": 103,
   "metadata": {},
   "outputs": [],
   "source": [
    "best_estimator_rf = search_rf.best_estimator_"
   ]
  },
  {
   "cell_type": "markdown",
   "metadata": {},
   "source": [
    "### Gradient Boosting"
   ]
  },
  {
   "cell_type": "code",
   "execution_count": 86,
   "metadata": {},
   "outputs": [],
   "source": [
    "gbr = GradientBoostingRegressor()"
   ]
  },
  {
   "cell_type": "code",
   "execution_count": 92,
   "metadata": {},
   "outputs": [],
   "source": [
    "param_grid = {\n",
    "    'n_estimators': [100, 200, 300],           \n",
    "    'learning_rate': [0.05, 0.1, 0.2],         \n",
    "    'max_depth': [3, 4, 5],                    \n",
    "    'min_samples_split': [2, 5, 10],          \n",
    "    'min_samples_leaf': [1, 2, 4],             \n",
    "    'max_features': ['sqrt', 'log2', None],  \n",
    "    'subsample': [0.8, 0.9, 1.0]             \n",
    "}\n",
    "\n",
    "search_gbr = RandomizedSearchCV(estimator=gbr,\n",
    "                        param_distributions=param_grid,\n",
    "                        scoring=scoring,\n",
    "                        cv=5, refit='MAE', n_iter=10).fit(X_train, y_train)"
   ]
  },
  {
   "cell_type": "code",
   "execution_count": 101,
   "metadata": {},
   "outputs": [
    {
     "name": "stdout",
     "output_type": "stream",
     "text": [
      "Best hyperparameters found:  {'subsample': 0.9, 'n_estimators': 200, 'min_samples_split': 10, 'min_samples_leaf': 4, 'max_features': 'sqrt', 'max_depth': 5, 'learning_rate': 0.05}\n",
      "----------\n",
      "Best score of cross valdiation with NMAE:  -592.1344450763828\n",
      "----------\n",
      "Best test score of cross valdiation with R2:  0.8407701920715096\n"
     ]
    }
   ],
   "source": [
    "results = search_gbr.cv_results_\n",
    "\n",
    "print('Best hyperparameters found: ', search_gbr.best_params_)\n",
    "print('-'*10)\n",
    "print('Best score of cross valdiation with NMAE: ', search_gbr.best_score_)\n",
    "print('-'*10)\n",
    "print('Best test score of cross valdiation with R2: ', results['mean_test_R2'].mean())"
   ]
  },
  {
   "cell_type": "code",
   "execution_count": 102,
   "metadata": {},
   "outputs": [],
   "source": [
    "best_estimator_gbr = search_gbr.best_estimator_"
   ]
  },
  {
   "cell_type": "code",
   "execution_count": 111,
   "metadata": {},
   "outputs": [
    {
     "data": {
      "text/plain": [
       "['../data_science_pipeline/models_adj_hyperparams/ridge_model.pkl']"
      ]
     },
     "execution_count": 111,
     "metadata": {},
     "output_type": "execute_result"
    }
   ],
   "source": [
    "dump(best_estimator_ridge, '../data_science_pipeline/models_adj_hyperparams/ridge_model.pkl')"
   ]
  },
  {
   "cell_type": "code",
   "execution_count": 112,
   "metadata": {},
   "outputs": [
    {
     "data": {
      "text/plain": [
       "['../data_science_pipeline/models_adj_hyperparams/rf_model.pkl']"
      ]
     },
     "execution_count": 112,
     "metadata": {},
     "output_type": "execute_result"
    }
   ],
   "source": [
    "dump(best_estimator_rf, '../data_science_pipeline/models_adj_hyperparams/rf_model.pkl')"
   ]
  },
  {
   "cell_type": "code",
   "execution_count": 113,
   "metadata": {},
   "outputs": [
    {
     "data": {
      "text/plain": [
       "['../data_science_pipeline/models_adj_hyperparams/gbr_model.pkl']"
      ]
     },
     "execution_count": 113,
     "metadata": {},
     "output_type": "execute_result"
    }
   ],
   "source": [
    "dump(best_estimator_gbr, '../data_science_pipeline/models_adj_hyperparams/gbr_model.pkl')"
   ]
  }
 ],
 "metadata": {
  "kernelspec": {
   "display_name": "Python 3",
   "language": "python",
   "name": "python3"
  },
  "language_info": {
   "codemirror_mode": {
    "name": "ipython",
    "version": 3
   },
   "file_extension": ".py",
   "mimetype": "text/x-python",
   "name": "python",
   "nbconvert_exporter": "python",
   "pygments_lexer": "ipython3",
   "version": "3.10.12"
  }
 },
 "nbformat": 4,
 "nbformat_minor": 2
}
