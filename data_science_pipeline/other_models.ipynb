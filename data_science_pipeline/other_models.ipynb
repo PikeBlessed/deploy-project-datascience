{
 "cells": [
  {
   "cell_type": "markdown",
   "metadata": {},
   "source": [
    "# Applying other models to dataset"
   ]
  },
  {
   "cell_type": "code",
   "execution_count": 22,
   "metadata": {},
   "outputs": [],
   "source": [
    "import pandas as pd\n",
    "from sklearn.tree import DecisionTreeRegressor\n",
    "from sklearn.ensemble import RandomForestRegressor, GradientBoostingRegressor\n",
    "from sklearn.model_selection import train_test_split\n",
    "from sklearn.metrics import mean_absolute_error, mean_squared_error, mean_absolute_percentage_error\n",
    "\n",
    "df = pd.read_csv('/home/pikeblessed/proyecto_phnan/deploy-project-datascience/data/df_processed.csv')"
   ]
  },
  {
   "cell_type": "code",
   "execution_count": 23,
   "metadata": {},
   "outputs": [],
   "source": [
    "X = df.drop(['reach', 'date', 'engagement'], axis=1)\n",
    "y = df['reach']\n",
    "\n",
    "X_train, X_test, y_train, y_test = train_test_split(X,y, test_size=.3, random_state=42)"
   ]
  },
  {
   "cell_type": "markdown",
   "metadata": {},
   "source": [
    "### Decision Tree"
   ]
  },
  {
   "cell_type": "code",
   "execution_count": 24,
   "metadata": {},
   "outputs": [],
   "source": [
    "tree = DecisionTreeRegressor(max_depth=2).fit(X_train, y_train)\n",
    "y_pred = tree.predict(X_test)"
   ]
  },
  {
   "cell_type": "code",
   "execution_count": 25,
   "metadata": {},
   "outputs": [
    {
     "name": "stdout",
     "output_type": "stream",
     "text": [
      "R2 score test:  0.8305746459149218\n",
      "R2 score train:  0.8634207351733671\n",
      "----------\n",
      "MAE:  833.7031803614498\n",
      "----------\n",
      "MAPE:  0.34550486092520794\n",
      "----------\n",
      "RMSE:  1196.1980368977665\n"
     ]
    }
   ],
   "source": [
    "#evaluating decision tree model\n",
    "print('R2 score test: ', tree.score(X_test, y_test))\n",
    "print('R2 score train: ', tree.score(X_train, y_train))\n",
    "print('-'*10)\n",
    "print('MAE: ', mean_absolute_error(y_test, y_pred))\n",
    "print('-'*10)\n",
    "print('MAPE: ', mean_absolute_percentage_error(y_test, y_pred))\n",
    "print('-'*10)\n",
    "print('RMSE: ', mean_squared_error(y_test, y_pred, squared=False))"
   ]
  },
  {
   "cell_type": "markdown",
   "metadata": {},
   "source": [
    "### Random Forest"
   ]
  },
  {
   "cell_type": "code",
   "execution_count": 26,
   "metadata": {},
   "outputs": [],
   "source": [
    "rf = RandomForestRegressor().fit(X_train, y_train)\n",
    "y_pred = rf.predict(X_test)"
   ]
  },
  {
   "cell_type": "code",
   "execution_count": 27,
   "metadata": {},
   "outputs": [
    {
     "name": "stdout",
     "output_type": "stream",
     "text": [
      "R2 score test:  0.858186844281221\n",
      "R2 score train:  0.9806199561483395\n",
      "----------\n",
      "MAE:  713.0902777777778\n",
      "----------\n",
      "MAPE:  0.22081419081858925\n",
      "----------\n",
      "RMSE:  1094.3900731154238\n"
     ]
    }
   ],
   "source": [
    "#evaluating random forest model\n",
    "print('R2 score test: ', rf.score(X_test, y_test))\n",
    "print('R2 score train: ', rf.score(X_train, y_train))\n",
    "print('-'*10)\n",
    "print('MAE: ', mean_absolute_error(y_test, y_pred))\n",
    "print('-'*10)\n",
    "print('MAPE: ', mean_absolute_percentage_error(y_test, y_pred))\n",
    "print('-'*10)\n",
    "print('RMSE: ', mean_squared_error(y_test, y_pred, squared=False))"
   ]
  },
  {
   "cell_type": "markdown",
   "metadata": {},
   "source": [
    "### Gradient Boosting Regressor"
   ]
  },
  {
   "cell_type": "code",
   "execution_count": 28,
   "metadata": {},
   "outputs": [],
   "source": [
    "gbr = GradientBoostingRegressor().fit(X_train, y_train)\n",
    "y_pred = gbr.predict(X_test)"
   ]
  },
  {
   "cell_type": "code",
   "execution_count": 29,
   "metadata": {},
   "outputs": [
    {
     "name": "stdout",
     "output_type": "stream",
     "text": [
      "R2 score test:  0.8564117960310353\n",
      "R2 score train:  0.9914761101079358\n",
      "----------\n",
      "MAE:  699.2588510376538\n",
      "----------\n",
      "MAPE:  0.22630267204738966\n",
      "----------\n",
      "RMSE:  1101.2179098892188\n"
     ]
    }
   ],
   "source": [
    "#evaluating gradient boosting regressor\n",
    "print('R2 score test: ', gbr.score(X_test, y_test))\n",
    "print('R2 score train: ', gbr.score(X_train, y_train))\n",
    "print('-'*10)\n",
    "print('MAE: ', mean_absolute_error(y_test, y_pred))\n",
    "print('-'*10)\n",
    "print('MAPE: ', mean_absolute_percentage_error(y_test, y_pred))\n",
    "print('-'*10)\n",
    "print('RMSE: ', mean_squared_error(y_test, y_pred, squared=False))"
   ]
  }
 ],
 "metadata": {
  "kernelspec": {
   "display_name": "Python 3",
   "language": "python",
   "name": "python3"
  },
  "language_info": {
   "codemirror_mode": {
    "name": "ipython",
    "version": 3
   },
   "file_extension": ".py",
   "mimetype": "text/x-python",
   "name": "python",
   "nbconvert_exporter": "python",
   "pygments_lexer": "ipython3",
   "version": "3.10.12"
  }
 },
 "nbformat": 4,
 "nbformat_minor": 2
}
