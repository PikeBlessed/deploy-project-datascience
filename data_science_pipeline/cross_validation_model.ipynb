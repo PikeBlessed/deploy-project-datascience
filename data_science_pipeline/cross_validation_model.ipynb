{
 "cells": [
  {
   "cell_type": "markdown",
   "metadata": {},
   "source": [
    "# Cross Validation"
   ]
  },
  {
   "cell_type": "code",
   "execution_count": 12,
   "metadata": {},
   "outputs": [],
   "source": [
    "import pandas as pd\n",
    "from sklearn.linear_model import Ridge\n",
    "from sklearn.model_selection import cross_validate\n",
    "from sklearn.tree import DecisionTreeRegressor\n",
    "from sklearn.ensemble import RandomForestRegressor, GradientBoostingRegressor\n",
    "\n",
    "df = pd.read_csv('/home/pikeblessed/proyecto_phnan/deploy-project-datascience/data/df_processed.csv')\n",
    "X = df.drop(['reach', 'date', 'engagement'], axis=1)\n",
    "y = df['reach']"
   ]
  },
  {
   "cell_type": "code",
   "execution_count": 3,
   "metadata": {},
   "outputs": [],
   "source": [
    "#aplying CV origin model\n",
    "cross_v_ridge = cross_validate(Ridge(alpha=10), X, y, cv=5, return_train_score=True)"
   ]
  },
  {
   "cell_type": "code",
   "execution_count": 4,
   "metadata": {},
   "outputs": [
    {
     "name": "stdout",
     "output_type": "stream",
     "text": [
      "0.9012598097803046\n",
      "0.780306012584584\n"
     ]
    }
   ],
   "source": [
    "#print mean train and test scores of ridge model\n",
    "print(cross_v_ridge['train_score'].mean()) \n",
    "print(cross_v_ridge['test_score'].mean()) "
   ]
  },
  {
   "cell_type": "code",
   "execution_count": 6,
   "metadata": {},
   "outputs": [],
   "source": [
    "#aplying CV decision tree model\n",
    "cross_v_tree = cross_validate(DecisionTreeRegressor(), X, y, cv=5, return_train_score=True)"
   ]
  },
  {
   "cell_type": "code",
   "execution_count": 8,
   "metadata": {},
   "outputs": [
    {
     "name": "stdout",
     "output_type": "stream",
     "text": [
      "0.9999799985520227\n",
      "0.7129628956169023\n"
     ]
    }
   ],
   "source": [
    "#print mean train and test scores of decision tree model\n",
    "print(cross_v_tree['train_score'].mean()) \n",
    "print(cross_v_tree['test_score'].mean()) "
   ]
  },
  {
   "cell_type": "code",
   "execution_count": 10,
   "metadata": {},
   "outputs": [],
   "source": [
    "#aplying CV random forest model\n",
    "cross_v_rf = cross_validate(RandomForestRegressor(), X, y, cv=5, return_train_score=True)"
   ]
  },
  {
   "cell_type": "code",
   "execution_count": 11,
   "metadata": {},
   "outputs": [
    {
     "name": "stdout",
     "output_type": "stream",
     "text": [
      "0.9809312312983429\n",
      "0.8015260477656716\n"
     ]
    }
   ],
   "source": [
    "#print mean train and test scores of random forest model\n",
    "print(cross_v_rf['train_score'].mean()) \n",
    "print(cross_v_rf['test_score'].mean()) "
   ]
  },
  {
   "cell_type": "code",
   "execution_count": 13,
   "metadata": {},
   "outputs": [],
   "source": [
    "#aplying CV gradient boosting model\n",
    "cross_v_gbr = cross_validate(GradientBoostingRegressor(), X, y, cv=5, return_train_score=True)"
   ]
  },
  {
   "cell_type": "code",
   "execution_count": 14,
   "metadata": {},
   "outputs": [
    {
     "name": "stdout",
     "output_type": "stream",
     "text": [
      "0.9888342695498945\n",
      "0.7955326112339505\n"
     ]
    }
   ],
   "source": [
    "#print mean train and test scores of gradient boosting model\n",
    "print(cross_v_gbr['train_score'].mean()) \n",
    "print(cross_v_gbr['test_score'].mean()) "
   ]
  }
 ],
 "metadata": {
  "kernelspec": {
   "display_name": "Python 3",
   "language": "python",
   "name": "python3"
  },
  "language_info": {
   "codemirror_mode": {
    "name": "ipython",
    "version": 3
   },
   "file_extension": ".py",
   "mimetype": "text/x-python",
   "name": "python",
   "nbconvert_exporter": "python",
   "pygments_lexer": "ipython3",
   "version": "3.10.12"
  }
 },
 "nbformat": 4,
 "nbformat_minor": 2
}
