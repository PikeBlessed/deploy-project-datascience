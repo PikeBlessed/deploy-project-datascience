{
 "cells": [
  {
   "cell_type": "markdown",
   "metadata": {},
   "source": [
    "# Cross Validation"
   ]
  },
  {
   "cell_type": "code",
   "execution_count": 240,
   "metadata": {},
   "outputs": [],
   "source": [
    "import pandas as pd\n",
    "from sklearn.linear_model import Ridge\n",
    "from sklearn.model_selection import cross_validate\n",
    "from sklearn.tree import DecisionTreeRegressor\n",
    "from sklearn.ensemble import RandomForestRegressor, GradientBoostingRegressor\n",
    "\n",
    "df = pd.read_csv('/home/pikeblessed/proyecto_phnan/deploy-project-datascience/data/df_processed.csv')\n",
    "X = df.drop(['reach', 'date', 'engagement'], axis=1)\n",
    "y = df['reach']"
   ]
  },
  {
   "cell_type": "markdown",
   "metadata": {},
   "source": [
    "### Ridge Model"
   ]
  },
  {
   "cell_type": "code",
   "execution_count": 241,
   "metadata": {},
   "outputs": [],
   "source": [
    "cross_v_ridge = cross_validate(Ridge(alpha=10), X, y, cv=5, return_train_score=True)"
   ]
  },
  {
   "cell_type": "code",
   "execution_count": 242,
   "metadata": {},
   "outputs": [
    {
     "name": "stdout",
     "output_type": "stream",
     "text": [
      "0.9010187594488759\n",
      "0.7870649569245625\n"
     ]
    }
   ],
   "source": [
    "#print mean train and test scores of ridge model\n",
    "print(cross_v_ridge['train_score'].mean()) \n",
    "print(cross_v_ridge['test_score'].mean()) "
   ]
  },
  {
   "cell_type": "markdown",
   "metadata": {},
   "source": [
    "### Decision Tree"
   ]
  },
  {
   "cell_type": "code",
   "execution_count": 186,
   "metadata": {},
   "outputs": [],
   "source": [
    "cross_v_tree = cross_validate(DecisionTreeRegressor(), X, y, cv=5, return_train_score=True)"
   ]
  },
  {
   "cell_type": "code",
   "execution_count": 187,
   "metadata": {},
   "outputs": [
    {
     "name": "stdout",
     "output_type": "stream",
     "text": [
      "0.9999799985520227\n",
      "0.6893778191115757\n"
     ]
    }
   ],
   "source": [
    "#print mean train and test scores of decision tree model\n",
    "print(cross_v_tree['train_score'].mean()) \n",
    "print(cross_v_tree['test_score'].mean()) "
   ]
  },
  {
   "cell_type": "markdown",
   "metadata": {},
   "source": [
    "### Random Forest"
   ]
  },
  {
   "cell_type": "code",
   "execution_count": 188,
   "metadata": {},
   "outputs": [],
   "source": [
    "cross_v_rf = cross_validate(RandomForestRegressor(), X, y, cv=5, return_train_score=True)"
   ]
  },
  {
   "cell_type": "code",
   "execution_count": 189,
   "metadata": {},
   "outputs": [
    {
     "name": "stdout",
     "output_type": "stream",
     "text": [
      "0.9816207796232057\n",
      "0.8003298535985319\n"
     ]
    }
   ],
   "source": [
    "#print mean train and test scores of random forest model\n",
    "print(cross_v_rf['train_score'].mean()) \n",
    "print(cross_v_rf['test_score'].mean()) "
   ]
  },
  {
   "cell_type": "markdown",
   "metadata": {},
   "source": [
    "### Gradient Boosting"
   ]
  },
  {
   "cell_type": "code",
   "execution_count": 190,
   "metadata": {},
   "outputs": [],
   "source": [
    "cross_v_gbr = cross_validate(GradientBoostingRegressor(), X, y, cv=5, return_train_score=True)"
   ]
  },
  {
   "cell_type": "code",
   "execution_count": 191,
   "metadata": {},
   "outputs": [
    {
     "name": "stdout",
     "output_type": "stream",
     "text": [
      "0.9888342695498945\n",
      "0.795459464185128\n"
     ]
    }
   ],
   "source": [
    "#print mean train and test scores of gradient boosting model\n",
    "print(cross_v_gbr['train_score'].mean()) \n",
    "print(cross_v_gbr['test_score'].mean()) "
   ]
  },
  {
   "cell_type": "markdown",
   "metadata": {},
   "source": [
    "## Aplying Cross Validation to Best Models"
   ]
  },
  {
   "cell_type": "code",
   "execution_count": 192,
   "metadata": {},
   "outputs": [],
   "source": [
    "from joblib import load"
   ]
  },
  {
   "cell_type": "code",
   "execution_count": 193,
   "metadata": {},
   "outputs": [],
   "source": [
    "folder_path = \"../data_science_pipeline/models_adj_hyperparams/\"\n",
    "model_names = ['gbr_model.pkl', 'rf_model.pkl', 'ridge_model.pkl']"
   ]
  },
  {
   "cell_type": "code",
   "execution_count": 194,
   "metadata": {},
   "outputs": [],
   "source": [
    "loaded_models = []\n",
    "\n",
    "for model_name in model_names:\n",
    "    model_path = folder_path+model_name\n",
    "    loaded_model = load(model_path)\n",
    "    loaded_models.append(loaded_model)"
   ]
  },
  {
   "cell_type": "markdown",
   "metadata": {},
   "source": [
    "### Ridge Model"
   ]
  },
  {
   "cell_type": "code",
   "execution_count": 203,
   "metadata": {},
   "outputs": [],
   "source": [
    "cross_v_ridge_2 = cross_validate(loaded_models[2], X, y, cv=5, return_train_score=True)"
   ]
  },
  {
   "cell_type": "code",
   "execution_count": 204,
   "metadata": {},
   "outputs": [
    {
     "name": "stdout",
     "output_type": "stream",
     "text": [
      "0.9011085832362342\n",
      "0.7858874532420254\n"
     ]
    }
   ],
   "source": [
    "print(cross_v_ridge_2['train_score'].mean()) \n",
    "print(cross_v_ridge_2['test_score'].mean())"
   ]
  },
  {
   "cell_type": "markdown",
   "metadata": {},
   "source": [
    "### Random Forest"
   ]
  },
  {
   "cell_type": "code",
   "execution_count": 197,
   "metadata": {},
   "outputs": [],
   "source": [
    "cross_v_rf = cross_validate(loaded_models[1], X, y, cv=5, return_train_score=True)"
   ]
  },
  {
   "cell_type": "code",
   "execution_count": 198,
   "metadata": {},
   "outputs": [
    {
     "name": "stdout",
     "output_type": "stream",
     "text": [
      "0.9569286886773926\n",
      "0.7705868115480831\n"
     ]
    }
   ],
   "source": [
    "print(cross_v_rf['train_score'].mean()) \n",
    "print(cross_v_rf['test_score'].mean())"
   ]
  },
  {
   "cell_type": "markdown",
   "metadata": {},
   "source": [
    "### Gradient Boosting"
   ]
  },
  {
   "cell_type": "code",
   "execution_count": 199,
   "metadata": {},
   "outputs": [],
   "source": [
    "cross_v_gbr = cross_validate(loaded_models[0], X, y, cv=5, return_train_score=True)"
   ]
  },
  {
   "cell_type": "code",
   "execution_count": 200,
   "metadata": {},
   "outputs": [
    {
     "name": "stdout",
     "output_type": "stream",
     "text": [
      "0.9919303793336596\n",
      "0.7666323995001207\n"
     ]
    }
   ],
   "source": [
    "print(cross_v_gbr['train_score'].mean()) \n",
    "print(cross_v_gbr['test_score'].mean())"
   ]
  }
 ],
 "metadata": {
  "kernelspec": {
   "display_name": "Python 3",
   "language": "python",
   "name": "python3"
  },
  "language_info": {
   "codemirror_mode": {
    "name": "ipython",
    "version": 3
   },
   "file_extension": ".py",
   "mimetype": "text/x-python",
   "name": "python",
   "nbconvert_exporter": "python",
   "pygments_lexer": "ipython3",
   "version": "3.10.12"
  }
 },
 "nbformat": 4,
 "nbformat_minor": 2
}
